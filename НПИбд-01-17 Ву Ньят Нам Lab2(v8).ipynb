{
 "cells": [
  {
   "cell_type": "markdown",
   "metadata": {},
   "source": [
    "### РОССИЙСКИЙ УНИВЕРСИТЕТ ДРУЖБЫ НАРОДОВ"
   ]
  },
  {
   "cell_type": "markdown",
   "metadata": {},
   "source": [
    "#### Факультет физико-математических и естественных наук  \n",
    "#### Кафедра информационных технологий "
   ]
  },
  {
   "cell_type": "markdown",
   "metadata": {},
   "source": [
    "## ОТЧЕТ ПО ЛАБОРАТОРНОЙ РАБОТЕ № 2\n"
   ]
  },
  {
   "cell_type": "markdown",
   "metadata": {},
   "source": [
    "#### Дисциплина: Интеллектуальный анализ данных"
   ]
  },
  {
   "cell_type": "markdown",
   "metadata": {},
   "source": [
    "##### Студент:  Ву Ньят Нам\n",
    "##### Группа:   НПИбд-01-17\n"
   ]
  },
  {
   "cell_type": "markdown",
   "metadata": {},
   "source": [
    "## Москва 2020\n",
    "***"
   ]
  },
  {
   "cell_type": "markdown",
   "metadata": {},
   "source": [
    "### Вариант № 8\n"
   ]
  },
  {
   "cell_type": "markdown",
   "metadata": {},
   "source": [
    "1. Используя функционал библиотеки Pandas, cчитайте заданный набор данных из репозитария UCI."
   ]
  },
  {
   "cell_type": "code",
   "execution_count": 119,
   "metadata": {},
   "outputs": [
    {
     "name": "stdout",
     "output_type": "stream",
     "text": [
      "Число записей = 569\n",
      "Число признаков = 31\n"
     ]
    },
    {
     "data": {
      "text/html": [
       "<div>\n",
       "<style scoped>\n",
       "    .dataframe tbody tr th:only-of-type {\n",
       "        vertical-align: middle;\n",
       "    }\n",
       "\n",
       "    .dataframe tbody tr th {\n",
       "        vertical-align: top;\n",
       "    }\n",
       "\n",
       "    .dataframe thead th {\n",
       "        text-align: right;\n",
       "    }\n",
       "</style>\n",
       "<table border=\"1\" class=\"dataframe\">\n",
       "  <thead>\n",
       "    <tr style=\"text-align: right;\">\n",
       "      <th></th>\n",
       "      <th>Diagnosis</th>\n",
       "      <th>Radius_mean</th>\n",
       "      <th>Texture_mean</th>\n",
       "      <th>Perimeter_mean</th>\n",
       "      <th>Area_mean</th>\n",
       "      <th>Smoothness_mean</th>\n",
       "      <th>Compactness_mean</th>\n",
       "      <th>Concavity_mean</th>\n",
       "      <th>Concave points_mean</th>\n",
       "      <th>Symmetry_mean</th>\n",
       "      <th>Fractal dimension_mean</th>\n",
       "      <th>Radius_se</th>\n",
       "      <th>Texture_se</th>\n",
       "      <th>Perimeter_se</th>\n",
       "      <th>Area_se</th>\n",
       "      <th>Smoothness_se</th>\n",
       "      <th>Compactness_se</th>\n",
       "      <th>Concavity_se</th>\n",
       "      <th>Concave points_se</th>\n",
       "      <th>Symmetry_se</th>\n",
       "      <th>Fractal dimension_se</th>\n",
       "      <th>Radius_worst</th>\n",
       "      <th>Texture_worst</th>\n",
       "      <th>Perimeter_worst</th>\n",
       "      <th>Area_worst</th>\n",
       "      <th>Smoothness_worst</th>\n",
       "      <th>Compactness_worst</th>\n",
       "      <th>Concavity_worst</th>\n",
       "      <th>Concave points_worst</th>\n",
       "      <th>Symmetry_worst</th>\n",
       "      <th>Fractal dimension_worst</th>\n",
       "    </tr>\n",
       "  </thead>\n",
       "  <tbody>\n",
       "    <tr>\n",
       "      <th>0</th>\n",
       "      <td>M</td>\n",
       "      <td>17.99</td>\n",
       "      <td>10.38</td>\n",
       "      <td>122.80</td>\n",
       "      <td>1001.0</td>\n",
       "      <td>0.11840</td>\n",
       "      <td>0.27760</td>\n",
       "      <td>0.3001</td>\n",
       "      <td>0.14710</td>\n",
       "      <td>0.2419</td>\n",
       "      <td>0.07871</td>\n",
       "      <td>1.0950</td>\n",
       "      <td>0.9053</td>\n",
       "      <td>8.589</td>\n",
       "      <td>153.40</td>\n",
       "      <td>0.006399</td>\n",
       "      <td>0.04904</td>\n",
       "      <td>0.05373</td>\n",
       "      <td>0.01587</td>\n",
       "      <td>0.03003</td>\n",
       "      <td>0.006193</td>\n",
       "      <td>25.38</td>\n",
       "      <td>17.33</td>\n",
       "      <td>184.60</td>\n",
       "      <td>2019.0</td>\n",
       "      <td>0.1622</td>\n",
       "      <td>0.6656</td>\n",
       "      <td>0.7119</td>\n",
       "      <td>0.2654</td>\n",
       "      <td>0.4601</td>\n",
       "      <td>0.11890</td>\n",
       "    </tr>\n",
       "    <tr>\n",
       "      <th>1</th>\n",
       "      <td>M</td>\n",
       "      <td>20.57</td>\n",
       "      <td>17.77</td>\n",
       "      <td>132.90</td>\n",
       "      <td>1326.0</td>\n",
       "      <td>0.08474</td>\n",
       "      <td>0.07864</td>\n",
       "      <td>0.0869</td>\n",
       "      <td>0.07017</td>\n",
       "      <td>0.1812</td>\n",
       "      <td>0.05667</td>\n",
       "      <td>0.5435</td>\n",
       "      <td>0.7339</td>\n",
       "      <td>3.398</td>\n",
       "      <td>74.08</td>\n",
       "      <td>0.005225</td>\n",
       "      <td>0.01308</td>\n",
       "      <td>0.01860</td>\n",
       "      <td>0.01340</td>\n",
       "      <td>0.01389</td>\n",
       "      <td>0.003532</td>\n",
       "      <td>24.99</td>\n",
       "      <td>23.41</td>\n",
       "      <td>158.80</td>\n",
       "      <td>1956.0</td>\n",
       "      <td>0.1238</td>\n",
       "      <td>0.1866</td>\n",
       "      <td>0.2416</td>\n",
       "      <td>0.1860</td>\n",
       "      <td>0.2750</td>\n",
       "      <td>0.08902</td>\n",
       "    </tr>\n",
       "    <tr>\n",
       "      <th>2</th>\n",
       "      <td>M</td>\n",
       "      <td>19.69</td>\n",
       "      <td>21.25</td>\n",
       "      <td>130.00</td>\n",
       "      <td>1203.0</td>\n",
       "      <td>0.10960</td>\n",
       "      <td>0.15990</td>\n",
       "      <td>0.1974</td>\n",
       "      <td>0.12790</td>\n",
       "      <td>0.2069</td>\n",
       "      <td>0.05999</td>\n",
       "      <td>0.7456</td>\n",
       "      <td>0.7869</td>\n",
       "      <td>4.585</td>\n",
       "      <td>94.03</td>\n",
       "      <td>0.006150</td>\n",
       "      <td>0.04006</td>\n",
       "      <td>0.03832</td>\n",
       "      <td>0.02058</td>\n",
       "      <td>0.02250</td>\n",
       "      <td>0.004571</td>\n",
       "      <td>23.57</td>\n",
       "      <td>25.53</td>\n",
       "      <td>152.50</td>\n",
       "      <td>1709.0</td>\n",
       "      <td>0.1444</td>\n",
       "      <td>0.4245</td>\n",
       "      <td>0.4504</td>\n",
       "      <td>0.2430</td>\n",
       "      <td>0.3613</td>\n",
       "      <td>0.08758</td>\n",
       "    </tr>\n",
       "    <tr>\n",
       "      <th>3</th>\n",
       "      <td>M</td>\n",
       "      <td>11.42</td>\n",
       "      <td>20.38</td>\n",
       "      <td>77.58</td>\n",
       "      <td>386.1</td>\n",
       "      <td>0.14250</td>\n",
       "      <td>0.28390</td>\n",
       "      <td>0.2414</td>\n",
       "      <td>0.10520</td>\n",
       "      <td>0.2597</td>\n",
       "      <td>0.09744</td>\n",
       "      <td>0.4956</td>\n",
       "      <td>1.1560</td>\n",
       "      <td>3.445</td>\n",
       "      <td>27.23</td>\n",
       "      <td>0.009110</td>\n",
       "      <td>0.07458</td>\n",
       "      <td>0.05661</td>\n",
       "      <td>0.01867</td>\n",
       "      <td>0.05963</td>\n",
       "      <td>0.009208</td>\n",
       "      <td>14.91</td>\n",
       "      <td>26.50</td>\n",
       "      <td>98.87</td>\n",
       "      <td>567.7</td>\n",
       "      <td>0.2098</td>\n",
       "      <td>0.8663</td>\n",
       "      <td>0.6869</td>\n",
       "      <td>0.2575</td>\n",
       "      <td>0.6638</td>\n",
       "      <td>0.17300</td>\n",
       "    </tr>\n",
       "    <tr>\n",
       "      <th>4</th>\n",
       "      <td>M</td>\n",
       "      <td>20.29</td>\n",
       "      <td>14.34</td>\n",
       "      <td>135.10</td>\n",
       "      <td>1297.0</td>\n",
       "      <td>0.10030</td>\n",
       "      <td>0.13280</td>\n",
       "      <td>0.1980</td>\n",
       "      <td>0.10430</td>\n",
       "      <td>0.1809</td>\n",
       "      <td>0.05883</td>\n",
       "      <td>0.7572</td>\n",
       "      <td>0.7813</td>\n",
       "      <td>5.438</td>\n",
       "      <td>94.44</td>\n",
       "      <td>0.011490</td>\n",
       "      <td>0.02461</td>\n",
       "      <td>0.05688</td>\n",
       "      <td>0.01885</td>\n",
       "      <td>0.01756</td>\n",
       "      <td>0.005115</td>\n",
       "      <td>22.54</td>\n",
       "      <td>16.67</td>\n",
       "      <td>152.20</td>\n",
       "      <td>1575.0</td>\n",
       "      <td>0.1374</td>\n",
       "      <td>0.2050</td>\n",
       "      <td>0.4000</td>\n",
       "      <td>0.1625</td>\n",
       "      <td>0.2364</td>\n",
       "      <td>0.07678</td>\n",
       "    </tr>\n",
       "  </tbody>\n",
       "</table>\n",
       "</div>"
      ],
      "text/plain": [
       "  Diagnosis  Radius_mean  Texture_mean  Perimeter_mean  Area_mean  \\\n",
       "0         M        17.99         10.38          122.80     1001.0   \n",
       "1         M        20.57         17.77          132.90     1326.0   \n",
       "2         M        19.69         21.25          130.00     1203.0   \n",
       "3         M        11.42         20.38           77.58      386.1   \n",
       "4         M        20.29         14.34          135.10     1297.0   \n",
       "\n",
       "   Smoothness_mean  Compactness_mean  Concavity_mean  Concave points_mean  \\\n",
       "0          0.11840           0.27760          0.3001              0.14710   \n",
       "1          0.08474           0.07864          0.0869              0.07017   \n",
       "2          0.10960           0.15990          0.1974              0.12790   \n",
       "3          0.14250           0.28390          0.2414              0.10520   \n",
       "4          0.10030           0.13280          0.1980              0.10430   \n",
       "\n",
       "   Symmetry_mean  Fractal dimension_mean  Radius_se  Texture_se  Perimeter_se  \\\n",
       "0         0.2419                 0.07871     1.0950      0.9053         8.589   \n",
       "1         0.1812                 0.05667     0.5435      0.7339         3.398   \n",
       "2         0.2069                 0.05999     0.7456      0.7869         4.585   \n",
       "3         0.2597                 0.09744     0.4956      1.1560         3.445   \n",
       "4         0.1809                 0.05883     0.7572      0.7813         5.438   \n",
       "\n",
       "   Area_se  Smoothness_se  Compactness_se  Concavity_se  Concave points_se  \\\n",
       "0   153.40       0.006399         0.04904       0.05373            0.01587   \n",
       "1    74.08       0.005225         0.01308       0.01860            0.01340   \n",
       "2    94.03       0.006150         0.04006       0.03832            0.02058   \n",
       "3    27.23       0.009110         0.07458       0.05661            0.01867   \n",
       "4    94.44       0.011490         0.02461       0.05688            0.01885   \n",
       "\n",
       "   Symmetry_se  Fractal dimension_se  Radius_worst  Texture_worst  \\\n",
       "0      0.03003              0.006193         25.38          17.33   \n",
       "1      0.01389              0.003532         24.99          23.41   \n",
       "2      0.02250              0.004571         23.57          25.53   \n",
       "3      0.05963              0.009208         14.91          26.50   \n",
       "4      0.01756              0.005115         22.54          16.67   \n",
       "\n",
       "   Perimeter_worst  Area_worst  Smoothness_worst  Compactness_worst  \\\n",
       "0           184.60      2019.0            0.1622             0.6656   \n",
       "1           158.80      1956.0            0.1238             0.1866   \n",
       "2           152.50      1709.0            0.1444             0.4245   \n",
       "3            98.87       567.7            0.2098             0.8663   \n",
       "4           152.20      1575.0            0.1374             0.2050   \n",
       "\n",
       "   Concavity_worst  Concave points_worst  Symmetry_worst  \\\n",
       "0           0.7119                0.2654          0.4601   \n",
       "1           0.2416                0.1860          0.2750   \n",
       "2           0.4504                0.2430          0.3613   \n",
       "3           0.6869                0.2575          0.6638   \n",
       "4           0.4000                0.1625          0.2364   \n",
       "\n",
       "   Fractal dimension_worst  \n",
       "0                  0.11890  \n",
       "1                  0.08902  \n",
       "2                  0.08758  \n",
       "3                  0.17300  \n",
       "4                  0.07678  "
      ]
     },
     "execution_count": 119,
     "metadata": {},
     "output_type": "execute_result"
    }
   ],
   "source": [
    "import pandas as pd\n",
    "data = pd.read_csv('http://archive.ics.uci.edu/ml/machine-learning-databases/breast-cancer-wisconsin/wdbc.data', \n",
    "                   header=None)\n",
    "data.columns = ['ID', 'Diagnosis', 'Radius_mean', 'Texture_mean', 'Perimeter_mean', 'Area_mean', 'Smoothness_mean', \n",
    "                'Compactness_mean', 'Concavity_mean', 'Concave points_mean', 'Symmetry_mean', 'Fractal dimension_mean', \n",
    "                'Radius_se', 'Texture_se', 'Perimeter_se', 'Area_se', 'Smoothness_se', 'Compactness_se', 'Concavity_se', \n",
    "                'Concave points_se', 'Symmetry_se', 'Fractal dimension_se', 'Radius_worst', 'Texture_worst', \n",
    "                'Perimeter_worst', 'Area_worst', 'Smoothness_worst', 'Compactness_worst', 'Concavity_worst', \n",
    "                'Concave points_worst', 'Symmetry_worst', 'Fractal dimension_worst']\n",
    "\n",
    "data = data.drop(['ID'],axis=1)     \n",
    "print('Число записей = %d' % (data.shape[0]))\n",
    "print('Число признаков = %d' % (data.shape[1]))\n",
    "data.head()"
   ]
  },
  {
   "cell_type": "markdown",
   "metadata": {},
   "source": [
    "2. Проведите исследование набора данных, выявляя числовые признаки. Если какие-то из числовых признаков были неправильно классифицированы, то преобразуйте их в числовые. Если в наборе для числовых признаков присутствуют пропущенные значения ('?'), то заполните их медианными значениями."
   ]
  },
  {
   "cell_type": "code",
   "execution_count": 120,
   "metadata": {},
   "outputs": [
    {
     "name": "stdout",
     "output_type": "stream",
     "text": [
      "<class 'pandas.core.frame.DataFrame'>\n",
      "RangeIndex: 569 entries, 0 to 568\n",
      "Data columns (total 31 columns):\n",
      " #   Column                   Non-Null Count  Dtype  \n",
      "---  ------                   --------------  -----  \n",
      " 0   Diagnosis                569 non-null    object \n",
      " 1   Radius_mean              569 non-null    float64\n",
      " 2   Texture_mean             569 non-null    float64\n",
      " 3   Perimeter_mean           569 non-null    float64\n",
      " 4   Area_mean                569 non-null    float64\n",
      " 5   Smoothness_mean          569 non-null    float64\n",
      " 6   Compactness_mean         569 non-null    float64\n",
      " 7   Concavity_mean           569 non-null    float64\n",
      " 8   Concave points_mean      569 non-null    float64\n",
      " 9   Symmetry_mean            569 non-null    float64\n",
      " 10  Fractal dimension_mean   569 non-null    float64\n",
      " 11  Radius_se                569 non-null    float64\n",
      " 12  Texture_se               569 non-null    float64\n",
      " 13  Perimeter_se             569 non-null    float64\n",
      " 14  Area_se                  569 non-null    float64\n",
      " 15  Smoothness_se            569 non-null    float64\n",
      " 16  Compactness_se           569 non-null    float64\n",
      " 17  Concavity_se             569 non-null    float64\n",
      " 18  Concave points_se        569 non-null    float64\n",
      " 19  Symmetry_se              569 non-null    float64\n",
      " 20  Fractal dimension_se     569 non-null    float64\n",
      " 21  Radius_worst             569 non-null    float64\n",
      " 22  Texture_worst            569 non-null    float64\n",
      " 23  Perimeter_worst          569 non-null    float64\n",
      " 24  Area_worst               569 non-null    float64\n",
      " 25  Smoothness_worst         569 non-null    float64\n",
      " 26  Compactness_worst        569 non-null    float64\n",
      " 27  Concavity_worst          569 non-null    float64\n",
      " 28  Concave points_worst     569 non-null    float64\n",
      " 29  Symmetry_worst           569 non-null    float64\n",
      " 30  Fractal dimension_worst  569 non-null    float64\n",
      "dtypes: float64(30), object(1)\n",
      "memory usage: 137.9+ KB\n"
     ]
    }
   ],
   "source": [
    "data.info()"
   ]
  },
  {
   "cell_type": "code",
   "execution_count": 130,
   "metadata": {},
   "outputs": [
    {
     "name": "stdout",
     "output_type": "stream",
     "text": [
      "Число записей = 569\n",
      "Число признаков = 31\n",
      "Число отсутствующих значений:\n",
      "\tDiagnosis: 0\n",
      "\tRadius_mean: 0\n",
      "\tTexture_mean: 0\n",
      "\tPerimeter_mean: 0\n",
      "\tArea_mean: 0\n",
      "\tSmoothness_mean: 0\n",
      "\tCompactness_mean: 0\n",
      "\tConcavity_mean: 0\n",
      "\tConcave points_mean: 0\n",
      "\tSymmetry_mean: 0\n",
      "\tFractal dimension_mean: 0\n",
      "\tRadius_se: 0\n",
      "\tTexture_se: 0\n",
      "\tPerimeter_se: 0\n",
      "\tArea_se: 0\n",
      "\tSmoothness_se: 0\n",
      "\tCompactness_se: 0\n",
      "\tConcavity_se: 0\n",
      "\tConcave points_se: 0\n",
      "\tSymmetry_se: 0\n",
      "\tFractal dimension_se: 0\n",
      "\tRadius_worst: 0\n",
      "\tTexture_worst: 0\n",
      "\tPerimeter_worst: 0\n",
      "\tArea_worst: 0\n",
      "\tSmoothness_worst: 0\n",
      "\tCompactness_worst: 0\n",
      "\tConcavity_worst: 0\n",
      "\tConcave points_worst: 0\n",
      "\tSymmetry_worst: 0\n",
      "\tFractal dimension_worst: 0\n"
     ]
    }
   ],
   "source": [
    "import numpy as np \n",
    "\n",
    "data = data.replace('?',np.NaN)\n",
    "data = data.replace('M', 1)\n",
    "data = data.replace('B', 2)\n",
    "\n",
    "print('Число записей = %d' % (data.shape[0]))\n",
    "print('Число признаков = %d' % (data.shape[1]))\n",
    "\n",
    "print('Число отсутствующих значений:')\n",
    "for col in data.columns:\n",
    "    print('\\t%s: %d' % (col,data[col].isna().sum()))"
   ]
  },
  {
   "cell_type": "code",
   "execution_count": 131,
   "metadata": {},
   "outputs": [
    {
     "data": {
      "text/html": [
       "<div>\n",
       "<style scoped>\n",
       "    .dataframe tbody tr th:only-of-type {\n",
       "        vertical-align: middle;\n",
       "    }\n",
       "\n",
       "    .dataframe tbody tr th {\n",
       "        vertical-align: top;\n",
       "    }\n",
       "\n",
       "    .dataframe thead th {\n",
       "        text-align: right;\n",
       "    }\n",
       "</style>\n",
       "<table border=\"1\" class=\"dataframe\">\n",
       "  <thead>\n",
       "    <tr style=\"text-align: right;\">\n",
       "      <th></th>\n",
       "      <th>Diagnosis</th>\n",
       "      <th>Radius_mean</th>\n",
       "      <th>Texture_mean</th>\n",
       "      <th>Perimeter_mean</th>\n",
       "      <th>Area_mean</th>\n",
       "      <th>Smoothness_mean</th>\n",
       "      <th>Compactness_mean</th>\n",
       "      <th>Concavity_mean</th>\n",
       "      <th>Concave points_mean</th>\n",
       "      <th>Symmetry_mean</th>\n",
       "      <th>Fractal dimension_mean</th>\n",
       "      <th>Radius_se</th>\n",
       "      <th>Texture_se</th>\n",
       "      <th>Perimeter_se</th>\n",
       "      <th>Area_se</th>\n",
       "      <th>Smoothness_se</th>\n",
       "      <th>Compactness_se</th>\n",
       "      <th>Concavity_se</th>\n",
       "      <th>Concave points_se</th>\n",
       "      <th>Symmetry_se</th>\n",
       "      <th>Fractal dimension_se</th>\n",
       "      <th>Radius_worst</th>\n",
       "      <th>Texture_worst</th>\n",
       "      <th>Perimeter_worst</th>\n",
       "      <th>Area_worst</th>\n",
       "      <th>Smoothness_worst</th>\n",
       "      <th>Compactness_worst</th>\n",
       "      <th>Concavity_worst</th>\n",
       "      <th>Concave points_worst</th>\n",
       "      <th>Symmetry_worst</th>\n",
       "      <th>Fractal dimension_worst</th>\n",
       "    </tr>\n",
       "  </thead>\n",
       "  <tbody>\n",
       "  </tbody>\n",
       "</table>\n",
       "</div>"
      ],
      "text/plain": [
       "Empty DataFrame\n",
       "Columns: [Diagnosis, Radius_mean, Texture_mean, Perimeter_mean, Area_mean, Smoothness_mean, Compactness_mean, Concavity_mean, Concave points_mean, Symmetry_mean, Fractal dimension_mean, Radius_se, Texture_se, Perimeter_se, Area_se, Smoothness_se, Compactness_se, Concavity_se, Concave points_se, Symmetry_se, Fractal dimension_se, Radius_worst, Texture_worst, Perimeter_worst, Area_worst, Smoothness_worst, Compactness_worst, Concavity_worst, Concave points_worst, Symmetry_worst, Fractal dimension_worst]\n",
       "Index: []"
      ]
     },
     "execution_count": 131,
     "metadata": {},
     "output_type": "execute_result"
    }
   ],
   "source": [
    "data[data.isnull().any(axis=1)]"
   ]
  },
  {
   "cell_type": "markdown",
   "metadata": {},
   "source": [
    "3. Определите признак, содержащий метку класса. Определите числовой признак, имеющий максимальную дисперсию."
   ]
  },
  {
   "cell_type": "markdown",
   "metadata": {},
   "source": [
    "## Приму Diagnosis за метку класса"
   ]
  },
  {
   "cell_type": "code",
   "execution_count": 132,
   "metadata": {},
   "outputs": [
    {
     "name": "stdout",
     "output_type": "stream",
     "text": [
      "unique values in Diagnosis = 2\n",
      "unique values in Radius_mean = 456\n",
      "unique values in Texture_mean = 479\n",
      "unique values in Perimeter_mean = 522\n",
      "unique values in Area_mean = 539\n",
      "unique values in Smoothness_mean = 474\n",
      "unique values in Compactness_mean = 537\n",
      "unique values in Concavity_mean = 537\n",
      "unique values in Concave points_mean = 542\n",
      "unique values in Symmetry_mean = 432\n",
      "unique values in Fractal dimension_mean = 499\n",
      "unique values in Radius_se = 540\n",
      "unique values in Texture_se = 519\n",
      "unique values in Perimeter_se = 533\n",
      "unique values in Area_se = 528\n",
      "unique values in Smoothness_se = 547\n",
      "unique values in Compactness_se = 541\n",
      "unique values in Concavity_se = 533\n",
      "unique values in Concave points_se = 507\n",
      "unique values in Symmetry_se = 498\n",
      "unique values in Fractal dimension_se = 545\n",
      "unique values in Radius_worst = 457\n",
      "unique values in Texture_worst = 511\n",
      "unique values in Perimeter_worst = 514\n",
      "unique values in Area_worst = 544\n",
      "unique values in Smoothness_worst = 411\n",
      "unique values in Compactness_worst = 529\n",
      "unique values in Concavity_worst = 539\n",
      "unique values in Concave points_worst = 492\n",
      "unique values in Symmetry_worst = 500\n",
      "unique values in Fractal dimension_worst = 535\n"
     ]
    }
   ],
   "source": [
    "for i in data.columns:\n",
    "    print('unique values in', i, '=', len(pd.unique(data[i].dropna(),)))"
   ]
  },
  {
   "cell_type": "code",
   "execution_count": 135,
   "metadata": {},
   "outputs": [],
   "source": [
    "nums = ['Radius_mean', 'Texture_mean', 'Perimeter_mean', 'Area_mean', 'Smoothness_mean', \n",
    "        'Compactness_mean', 'Concavity_mean', 'Concave points_mean', 'Symmetry_mean', 'Fractal dimension_mean', \n",
    "        'Radius_se', 'Texture_se', 'Perimeter_se', 'Area_se', 'Smoothness_se', 'Compactness_se', 'Concavity_se', \n",
    "        'Concave points_se', 'Symmetry_se', 'Fractal dimension_se', 'Radius_worst', 'Texture_worst', \n",
    "        'Perimeter_worst', 'Area_worst', 'Smoothness_worst', 'Compactness_worst', 'Concavity_worst', \n",
    "        'Concave points_worst', 'Symmetry_worst', 'Fractal dimension_worst']"
   ]
  },
  {
   "cell_type": "code",
   "execution_count": 136,
   "metadata": {},
   "outputs": [
    {
     "name": "stdout",
     "output_type": "stream",
     "text": [
      "Дисперсия признака Radius_mean = 12.418920129526722 \n",
      "\n",
      "Дисперсия признака Texture_mean = 18.49890867905146 \n",
      "\n",
      "Дисперсия признака Perimeter_mean = 590.4404795217704 \n",
      "\n",
      "Дисперсия признака Area_mean = 123843.55431768115 \n",
      "\n",
      "Дисперсия признака Smoothness_mean = 0.00019779970027290278 \n",
      "\n",
      "Дисперсия признака Compactness_mean = 0.0027891874004381295 \n",
      "\n",
      "Дисперсия признака Concavity_mean = 0.006355247900423129 \n",
      "\n",
      "Дисперсия признака Concave points_mean = 0.0015056607691635436 \n",
      "\n",
      "Дисперсия признака Symmetry_mean = 0.0007515428211713162 \n",
      "\n",
      "Дисперсия признака Fractal dimension_mean = 4.984872279821283e-05 \n",
      "\n",
      "Дисперсия признака Radius_se = 0.07690235187622219 \n",
      "\n",
      "Дисперсия признака Texture_se = 0.304315949077143 \n",
      "\n",
      "Дисперсия признака Perimeter_se = 4.08789583770081 \n",
      "\n",
      "Дисперсия признака Area_se = 2069.4315828687345 \n",
      "\n",
      "Дисперсия признака Smoothness_se = 9.015114003075571e-06 \n",
      "\n",
      "Дисперсия признака Compactness_se = 0.00032070288676061906 \n",
      "\n",
      "Дисперсия признака Concavity_se = 0.0009111982378230953 \n",
      "\n",
      "Дисперсия признака Concave points_se = 3.80724191290626e-05 \n",
      "\n",
      "Дисперсия признака Symmetry_se = 6.833289825212876e-05 \n",
      "\n",
      "Дисперсия признака Fractal dimension_se = 7.001691562872347e-06 \n",
      "\n",
      "Дисперсия признака Radius_worst = 23.360224175177606 \n",
      "\n",
      "Дисперсия признака Texture_worst = 37.77648276875665 \n",
      "\n",
      "Дисперсия признака Perimeter_worst = 1129.1308469423748 \n",
      "\n",
      "Дисперсия признака Area_worst = 324167.38510216837 \n",
      "\n",
      "Дисперсия признака Smoothness_worst = 0.0005213198325267952 \n",
      "\n",
      "Дисперсия признака Compactness_worst = 0.024754770743704052 \n",
      "\n",
      "Дисперсия признака Concavity_worst = 0.04352409045926073 \n",
      "\n",
      "Дисперсия признака Concave points_worst = 0.004320740679099743 \n",
      "\n",
      "Дисперсия признака Symmetry_worst = 0.003827583539505929 \n",
      "\n",
      "Дисперсия признака Fractal dimension_worst = 0.00032620937824822397 \n",
      "\n"
     ]
    }
   ],
   "source": [
    "for i in nums:\n",
    "    print('Дисперсия признака', i,'=',data[i].var(),'\\n')"
   ]
  },
  {
   "cell_type": "markdown",
   "metadata": {},
   "source": [
    "Максимальный признак: Area_worst"
   ]
  },
  {
   "cell_type": "markdown",
   "metadata": {},
   "source": [
    "4. При помощи класса SelectKBest библиотеки scikit-learn найдите два признака, имеющих наиболее выраженную взаимосвязь с признаком, имеющим максимальную дисперсию."
   ]
  },
  {
   "cell_type": "code",
   "execution_count": 137,
   "metadata": {},
   "outputs": [
    {
     "data": {
      "text/plain": [
       "array([ 9, 24])"
      ]
     },
     "execution_count": 137,
     "metadata": {},
     "output_type": "execute_result"
    }
   ],
   "source": [
    "from sklearn.feature_selection import SelectKBest,f_regression\n",
    "nums1 = ['Radius_mean', 'Texture_mean', 'Perimeter_mean', 'Area_mean', 'Smoothness_mean', \n",
    "        'Compactness_mean', 'Concavity_mean', 'Concave points_mean', 'Symmetry_mean', 'Fractal dimension_mean', \n",
    "        'Radius_se', 'Texture_se', 'Perimeter_se', 'Area_se', 'Smoothness_se', 'Compactness_se', 'Concavity_se', \n",
    "        'Concave points_se', 'Symmetry_se', 'Fractal dimension_se', 'Radius_worst', 'Texture_worst', \n",
    "        'Perimeter_worst', 'Smoothness_worst', 'Compactness_worst', 'Concavity_worst', 'Concave points_worst', \n",
    "        'Symmetry_worst', 'Fractal dimension_worst']\n",
    "array = data[nums1].values\n",
    "X = array[:, 0:28]\n",
    "Y = array[:, 28]\n",
    "test = SelectKBest(score_func=f_regression, k=2)\n",
    "fit = test.fit(X, Y)\n",
    "test.get_support(indices=True)"
   ]
  },
  {
   "cell_type": "code",
   "execution_count": 138,
   "metadata": {},
   "outputs": [
    {
     "name": "stdout",
     "output_type": "stream",
     "text": [
      "\\Оценки признаков:\n",
      " [2.83098753e-02 8.17316221e+00 1.47969031e+00 7.92089311e-03\n",
      " 1.88311997e+02 5.07870223e+02 2.04588970e+02 8.91824311e+01\n",
      " 1.34911970e+02 8.11704454e+02 1.39605879e+00 1.18428903e+00\n",
      " 4.16880367e+00 1.74478112e-01 5.89986856e+00 3.04300745e+02\n",
      " 1.35611116e+02 6.05638323e+01 3.47786388e+00 3.04863553e+02\n",
      " 4.99970648e+00 2.85973928e+01 1.11637697e+01 3.49674220e+02\n",
      " 1.08527639e+03 5.05436250e+02 2.00499881e+02 2.30783308e+02]\n",
      "\n",
      "Отобранные признаки:\n",
      "    Symmetry_mean  Area_worst\n",
      "0         0.2419      2019.0\n",
      "1         0.1812      1956.0\n",
      "2         0.2069      1709.0\n",
      "3         0.2597       567.7\n",
      "4         0.1809      1575.0\n"
     ]
    }
   ],
   "source": [
    "print(\"\\Оценки признаков:\\n\",fit.scores_)\n",
    "\n",
    "cols = test.get_support(indices=True)\n",
    "data_new = data.iloc[:,cols]\n",
    "print(\"\\nОтобранные признаки:\\n\",data_new.head())"
   ]
  },
  {
   "cell_type": "markdown",
   "metadata": {},
   "source": [
    "5. Визуализируйте набор данных в виде точек плоскости с координатами, соответствующими найденным признакам, отображая точки различных классов разными цветами."
   ]
  },
  {
   "cell_type": "code",
   "execution_count": 146,
   "metadata": {},
   "outputs": [
    {
     "data": {
      "text/plain": [
       "[<matplotlib.lines.Line2D at 0x121de2640>]"
      ]
     },
     "execution_count": 146,
     "metadata": {},
     "output_type": "execute_result"
    },
    {
     "data": {
      "image/png": "[encoded data removed]",
      "text/plain": [
       "<Figure size 640x480 with 1 Axes>"
      ]
     },
     "metadata": {
      "needs_background": "light"
     },
     "output_type": "display_data"
    }
   ],
   "source": [
    "%matplotlib inline\n",
    "import numpy as np\n",
    "import matplotlib.pyplot as plt\n",
    "\n",
    "plt.figure( figsize=(8,6), dpi=80)\n",
    "plt.plot(data[\"Area_worst\"][data[\"Diagnosis\"]==1],data[\"Symmetry_mean\"][data[\"Diagnosis\"]==1])\n",
    "plt.plot(data[\"Area_worst\"][data[\"Diagnosis\"]==2],data[\"Symmetry_mean\"][data[\"Diagnosis\"]==2])\n",
    "plt.plot(data[\"Area_worst\"][data[\"Diagnosis\"]==3],data[\"Symmetry_mean\"][data[\"Diagnosis\"]==3])"
   ]
  },
  {
   "cell_type": "markdown",
   "metadata": {},
   "source": [
    "6. Оставляя в наборе данных только числовые признаки, найдите и выведите на экран размерность метода главных компонент (параметр n_components), для которой доля объясняемой дисперсии будет не менее 99%."
   ]
  },
  {
   "cell_type": "code",
   "execution_count": 142,
   "metadata": {},
   "outputs": [
    {
     "name": "stdout",
     "output_type": "stream",
     "text": [
      "r = 1 \tДисперсия = 99.29656905071732 %\n",
      "r = 2 \tДисперсия = 99.87826595563054 %\n",
      "r = 3 \tДисперсия = 99.95835275302002 %\n",
      "r = 4 \tДисперсия = 99.99136340251819 %\n",
      "r = 5 \tДисперсия = 99.99787452266615 %\n",
      "r = 6 \tДисперсия = 99.99930252773439 %\n",
      "r = 7 \tДисперсия = 99.99971077821903 %\n",
      "r = 8 \tДисперсия = 99.99987824974372 %\n",
      "r = 9 \tДисперсия = 99.99995744534274 %\n",
      "r = 10 \tДисперсия = 99.99998620804456 %\n",
      "r = 11 \tДисперсия = 99.99999312986897 %\n",
      "r = 12 \tДисперсия = 99.9999956930626 %\n",
      "r = 13 \tДисперсия = 99.99999743190945 %\n",
      "r = 14 \tДисперсия = 99.99999853529911 %\n",
      "r = 15 \tДисперсия = 99.99999903868843 %\n",
      "r = 16 \tДисперсия = 99.99999934862761 %\n",
      "r = 17 \tДисперсия = 99.99999953439433 %\n",
      "r = 18 \tДисперсия = 99.99999968231367 %\n",
      "r = 19 \tДисперсия = 99.999999812552 %\n",
      "r = 20 \tДисперсия = 99.99999987408144 %\n",
      "r = 21 \tДисперсия = 99.99999991984124 %\n",
      "r = 22 \tДисперсия = 99.9999999476248 %\n",
      "r = 23 \tДисперсия = 99.999999970034 %\n",
      "r = 24 \tДисперсия = 99.99999998270815 %\n",
      "r = 25 \tДисперсия = 99.99999999255522 %\n",
      "r = 26 \tДисперсия = 99.99999999559114 %\n",
      "r = 27 \tДисперсия = 99.99999999786212 %\n",
      "r = 28 \tДисперсия = 99.99999999945034 %\n",
      "r = 29 \tДисперсия = 99.99999999999997 %\n"
     ]
    }
   ],
   "source": [
    "from sklearn.decomposition import PCA\n",
    "\n",
    "for r in range(1,30):\n",
    "    pca = PCA(n_components=r)\n",
    "    pca.fit(data[nums1].values)\n",
    "    print(\"r =\",r,\"\\tДисперсия =\", sum(pca.explained_variance_ratio_)*100, \"%\")"
   ]
  },
  {
   "cell_type": "markdown",
   "metadata": {},
   "source": [
    "7. Пользуясь методом главных компонент, снизьте размерность набора данных до двух признаков и изобразите полученный набор данных в виде точек на плоскости, отображая точки различных классов разными цветами."
   ]
  },
  {
   "cell_type": "code",
   "execution_count": 144,
   "metadata": {},
   "outputs": [
    {
     "name": "stdout",
     "output_type": "stream",
     "text": [
      "[[ 3.62802871e+02  7.49171711e+01]\n",
      " [ 6.74191060e+02 -3.51249674e+01]\n",
      " [ 5.53938632e+02 -3.18688047e+00]\n",
      " [-2.68704734e+02  1.40163315e+01]\n",
      " [ 6.47105241e+02 -1.19555074e+01]\n",
      " [-1.78063486e+02  4.76781268e+00]\n",
      " [ 3.88091772e+02 -2.67083960e+01]\n",
      " [-7.47708991e+01  1.79273688e+01]\n",
      " [-1.35515410e+02 -2.69758879e+00]\n",
      " [-1.79898611e+02  1.45842320e+00]\n",
      " [ 1.43562140e+02 -1.48937322e+01]\n",
      " [ 1.29540148e+02 -2.91265935e-02]\n",
      " [ 4.77279506e+02  2.65194059e+01]\n",
      " [ 1.27177610e+02 -1.69782944e+01]\n",
      " [-7.75803302e+01 -1.39099333e+01]\n",
      " [ 5.01840272e+00 -9.08349744e+00]\n",
      " [ 3.15000666e+01  1.46517696e+00]\n",
      " [ 1.47504205e+02 -2.10759769e+00]\n",
      " [ 6.15341327e+02  8.60863937e+00]\n",
      " [-9.03245279e+01 -7.56078061e+00]\n",
      " [-1.37442218e+02 -1.17581686e+01]\n",
      " [-3.85144163e+02  1.56349591e+01]\n",
      " [ 5.17024262e+01 -1.36495986e+00]\n",
      " [ 7.56389757e+02 -2.41146174e+01]\n",
      " [ 2.60878886e+02  3.45871850e+01]\n",
      " [ 2.67850502e+02  4.30034808e+01]\n",
      " [-1.01489683e+01 -1.91253356e+01]\n",
      " [ 4.44479093e+02  7.71269422e+00]\n",
      " [ 8.15690666e+01 -6.34890057e+00]\n",
      " [ 3.02874636e+02 -1.04311808e+01]]\n"
     ]
    }
   ],
   "source": [
    "X=data[nums1].values\n",
    "pca=PCA(n_components=2)\n",
    "fit=pca.fit(X)\n",
    "features=fit.transform(X)\n",
    "print(features[0:30,:])"
   ]
  },
  {
   "cell_type": "code",
   "execution_count": 147,
   "metadata": {},
   "outputs": [
    {
     "data": {
      "text/plain": [
       "[<matplotlib.lines.Line2D at 0x125177490>]"
      ]
     },
     "execution_count": 147,
     "metadata": {},
     "output_type": "execute_result"
    },
    {
     "data": {
      "image/png": "[encoded data removed]",
      "text/plain": [
       "<Figure size 640x480 with 1 Axes>"
      ]
     },
     "metadata": {
      "needs_background": "light"
     },
     "output_type": "display_data"
    }
   ],
   "source": [
    "plt.figure(figsize=(8,6),dpi=80)\n",
    "plt.plot(features[data[\"Diagnosis\"]==1,0],features[data[\"Diagnosis\"]==1,1],'r.')\n",
    "plt.plot(features[data[\"Diagnosis\"]==2,0],features[data[\"Diagnosis\"]==2,1],'g.')\n",
    "plt.plot(features[data[\"Diagnosis\"]==3,0],features[data[\"Diagnosis\"]==3,1],'b.')\n",
    "\n"
   ]
  }
 ],
 "metadata": {
  "kernelspec": {
   "display_name": "Python 3",
   "language": "python",
   "name": "python3"
  },
  "language_info": {
   "codemirror_mode": {
    "name": "ipython",
    "version": 3
   },
   "file_extension": ".py",
   "mimetype": "text/x-python",
   "name": "python",
   "nbconvert_exporter": "python",
   "pygments_lexer": "ipython3",
   "version": "3.8.6"
  }
 },
 "nbformat": 4,
 "nbformat_minor": 2
}
