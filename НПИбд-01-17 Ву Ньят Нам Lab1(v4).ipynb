{
 "cells": [
  {
   "cell_type": "markdown",
   "metadata": {},
   "source": [
    "### РОССИЙСКИЙ УНИВЕРСИТЕТ ДРУЖБЫ НАРОДОВ"
   ]
  },
  {
   "cell_type": "markdown",
   "metadata": {},
   "source": [
    "#### Факультет физико-математических и естественных наук  \n",
    "#### Кафедра информационных технологий "
   ]
  },
  {
   "cell_type": "markdown",
   "metadata": {},
   "source": [
    "## ОТЧЕТ ПО ЛАБОРАТОРНОЙ РАБОТЕ № 1\n"
   ]
  },
  {
   "cell_type": "markdown",
   "metadata": {},
   "source": [
    "#### Дисциплина: Интеллектуальный анализ данных"
   ]
  },
  {
   "cell_type": "markdown",
   "metadata": {},
   "source": [
    "##### Студент:  Ву Ньят Нам\n",
    "##### Группа:   НПИбд-01-17\n"
   ]
  },
  {
   "cell_type": "markdown",
   "metadata": {},
   "source": [
    "## Москва 2020\n",
    "***"
   ]
  },
  {
   "cell_type": "markdown",
   "metadata": {},
   "source": [
    "### Вариант № 4\n"
   ]
  },
  {
   "cell_type": "code",
   "execution_count": 23,
   "metadata": {},
   "outputs": [],
   "source": [
    "import numpy as np\n",
    "import matplotlib.pyplot as plt\n",
    "import pandas as pd\n",
    "import scipy\n",
    "import matplotlib.pyplot as plt\n",
    "from sklearn import preprocessing"
   ]
  },
  {
   "cell_type": "markdown",
   "metadata": {},
   "source": [
    "Задание 1: Используя функционал библиотеки NumPy, постройте n значений случайных признаков X и Y, имеющих (двумерное) гауссовское распределение с математическим ожиданием a и корреляционной матрицей R."
   ]
  },
  {
   "cell_type": "code",
   "execution_count": 3,
   "metadata": {},
   "outputs": [],
   "source": [
    "x,y = np.random.multivariate_normal([ 0 , -1],[[1 , -0.5] , [-0.5 , 2]],1000).T"
   ]
  },
  {
   "cell_type": "markdown",
   "metadata": {},
   "source": [
    "Вычислите и выведите на экран для построенных значений признаков X и Y математические ожидания, дисперсии, а также корреляцию между признаками."
   ]
  },
  {
   "cell_type": "code",
   "execution_count": 4,
   "metadata": {},
   "outputs": [
    {
     "name": "stdout",
     "output_type": "stream",
     "text": [
      "Мат ожидание СП X=  -0.0275226703658377\n",
      "Мат ожидание СП Y=  -0.9598290374599635\n",
      "Дисперсия СП X=  0.9926826795596366\n",
      "Дисперсия СП Y=  2.0761715681012487\n",
      "Корреляция =  -0.3933307482563819\n"
     ]
    }
   ],
   "source": [
    "print (\"Мат ожидание СП X= \", np.mean(x))\n",
    "print (\"Мат ожидание СП Y= \", np.mean(y))\n",
    "print (\"Дисперсия СП X= \",np.var(x))\n",
    "print (\"Дисперсия СП Y= \",np.var(y))\n",
    "print (\"Корреляция = \", np.corrcoef(x, y)[0,1])"
   ]
  },
  {
   "cell_type": "markdown",
   "metadata": {},
   "source": [
    "Визуализируйте построенные данные на плоскости в виде точек. Визуализируйте математическое ожидание на плоскости в виде точки другого цвета и с другим маркером."
   ]
  },
  {
   "cell_type": "code",
   "execution_count": 6,
   "metadata": {},
   "outputs": [
    {
     "data": {
      "image/png": "[encoded data removed]",
      "text/plain": [
       "<Figure size 432x288 with 1 Axes>"
      ]
     },
     "metadata": {
      "needs_background": "light"
     },
     "output_type": "display_data"
    }
   ],
   "source": [
    "plt.plot (x, y,'*', c='k')\n",
    "plt.plot (np.mean(x), np.mean(y),'p', ms=13, c='r')\n",
    "plt.xlabel('X')\n",
    "plt.ylabel('Y')\n",
    "plt.title('Случайные признаки X и У')\n",
    "plt.show()"
   ]
  },
  {
   "cell_type": "markdown",
   "metadata": {},
   "source": [
    "Задание 2: Используя функционал библиотеки Pandas, cчитайте заданный набор данных из репозитария UCI"
   ]
  },
  {
   "cell_type": "code",
   "execution_count": 13,
   "metadata": {},
   "outputs": [
    {
     "name": "stdout",
     "output_type": "stream",
     "text": [
      "\n",
      "*** Начало данных:\n",
      "    V0   V1           V2   V3   V4    V5           V6   V7     V8    V9  ...  \\\n",
      "0   3    ?  alfa-romero  gas  std   two  convertible  rwd  front  88.6  ...   \n",
      "1   3    ?  alfa-romero  gas  std   two  convertible  rwd  front  88.6  ...   \n",
      "2   1    ?  alfa-romero  gas  std   two    hatchback  rwd  front  94.5  ...   \n",
      "3   2  164         audi  gas  std  four        sedan  fwd  front  99.8  ...   \n",
      "4   2  164         audi  gas  std  four        sedan  4wd  front  99.4  ...   \n",
      "\n",
      "   V16   V17   V18   V19   V20  V21   V22 V23 V24    V25  \n",
      "0  130  mpfi  3.47  2.68   9.0  111  5000  21  27  13495  \n",
      "1  130  mpfi  3.47  2.68   9.0  111  5000  21  27  16500  \n",
      "2  152  mpfi  2.68  3.47   9.0  154  5000  19  26  16500  \n",
      "3  109  mpfi  3.19  3.40  10.0  102  5500  24  30  13950  \n",
      "4  136  mpfi  3.19  3.40   8.0  115  5500  18  22  17450  \n",
      "\n",
      "[5 rows x 26 columns]\n",
      "\n",
      "*** Конец данных:\n",
      "      V0  V1     V2      V3     V4    V5     V6   V7     V8     V9  ...  V16  \\\n",
      "200  -1  95  volvo     gas    std  four  sedan  rwd  front  109.1  ...  141   \n",
      "201  -1  95  volvo     gas  turbo  four  sedan  rwd  front  109.1  ...  141   \n",
      "202  -1  95  volvo     gas    std  four  sedan  rwd  front  109.1  ...  173   \n",
      "203  -1  95  volvo  diesel  turbo  four  sedan  rwd  front  109.1  ...  145   \n",
      "204  -1  95  volvo     gas  turbo  four  sedan  rwd  front  109.1  ...  141   \n",
      "\n",
      "      V17   V18   V19   V20  V21   V22 V23 V24    V25  \n",
      "200  mpfi  3.78  3.15   9.5  114  5400  23  28  16845  \n",
      "201  mpfi  3.78  3.15   8.7  160  5300  19  25  19045  \n",
      "202  mpfi  3.58  2.87   8.8  134  5500  18  23  21485  \n",
      "203   idi  3.01  3.40  23.0  106  4800  26  27  22470  \n",
      "204  mpfi  3.78  3.15   9.5  114  5400  19  25  22625  \n",
      "\n",
      "[5 rows x 26 columns]\n",
      "\n",
      "*** Сводка данных:\n",
      "                V0          V9         V10         V11         V12  \\\n",
      "count  205.000000  205.000000  205.000000  205.000000  205.000000   \n",
      "mean     0.834146   98.756585  174.049268   65.907805   53.724878   \n",
      "std      1.245307    6.021776   12.337289    2.145204    2.443522   \n",
      "min     -2.000000   86.600000  141.100000   60.300000   47.800000   \n",
      "25%      0.000000   94.500000  166.300000   64.100000   52.000000   \n",
      "50%      1.000000   97.000000  173.200000   65.500000   54.100000   \n",
      "75%      2.000000  102.400000  183.100000   66.900000   55.500000   \n",
      "max      3.000000  120.900000  208.100000   72.300000   59.800000   \n",
      "\n",
      "               V13         V16         V20         V23         V24  \n",
      "count   205.000000  205.000000  205.000000  205.000000  205.000000  \n",
      "mean   2555.565854  126.907317   10.142537   25.219512   30.751220  \n",
      "std     520.680204   41.642693    3.972040    6.542142    6.886443  \n",
      "min    1488.000000   61.000000    7.000000   13.000000   16.000000  \n",
      "25%    2145.000000   97.000000    8.600000   19.000000   25.000000  \n",
      "50%    2414.000000  120.000000    9.000000   24.000000   30.000000  \n",
      "75%    2935.000000  141.000000    9.400000   30.000000   34.000000  \n",
      "max    4066.000000  326.000000   23.000000   49.000000   54.000000  \n"
     ]
    }
   ],
   "source": [
    "url = \"https://archive.ics.uci.edu/ml/machine-learning-databases/autos/imports-85.data\"\n",
    "my_data = pd.read_csv(url, header=None, prefix=\"V\")\n",
    "\n",
    "print( \"\\n*** Начало данных:\\n\", my_data.head() ) \n",
    "print( \"\\n*** Конец данных:\\n\",  my_data.tail() )\n",
    "summary = my_data.describe()                       \n",
    "print( \"\\n*** Сводка данных:\\n\", summary)"
   ]
  },
  {
   "cell_type": "markdown",
   "metadata": {},
   "source": [
    "Проведите исследование набора данных, выявляя числовые и категориальные признаки. Если какие-то из признаков были неправильно классифицированы как категориальные, то преобразуйте их в числовые. Если в наборе присутствуют незаполненные значения, то игнорируйте такие записи"
   ]
  },
  {
   "cell_type": "code",
   "execution_count": 14,
   "metadata": {},
   "outputs": [
    {
     "name": "stdout",
     "output_type": "stream",
     "text": [
      "<class 'pandas.core.frame.DataFrame'>\n",
      "RangeIndex: 205 entries, 0 to 204\n",
      "Data columns (total 26 columns):\n",
      " #   Column  Non-Null Count  Dtype  \n",
      "---  ------  --------------  -----  \n",
      " 0   V0      205 non-null    int64  \n",
      " 1   V1      205 non-null    object \n",
      " 2   V2      205 non-null    object \n",
      " 3   V3      205 non-null    object \n",
      " 4   V4      205 non-null    object \n",
      " 5   V5      205 non-null    object \n",
      " 6   V6      205 non-null    object \n",
      " 7   V7      205 non-null    object \n",
      " 8   V8      205 non-null    object \n",
      " 9   V9      205 non-null    float64\n",
      " 10  V10     205 non-null    float64\n",
      " 11  V11     205 non-null    float64\n",
      " 12  V12     205 non-null    float64\n",
      " 13  V13     205 non-null    int64  \n",
      " 14  V14     205 non-null    object \n",
      " 15  V15     205 non-null    object \n",
      " 16  V16     205 non-null    int64  \n",
      " 17  V17     205 non-null    object \n",
      " 18  V18     205 non-null    object \n",
      " 19  V19     205 non-null    object \n",
      " 20  V20     205 non-null    float64\n",
      " 21  V21     205 non-null    object \n",
      " 22  V22     205 non-null    object \n",
      " 23  V23     205 non-null    int64  \n",
      " 24  V24     205 non-null    int64  \n",
      " 25  V25     205 non-null    object \n",
      "dtypes: float64(5), int64(5), object(16)\n",
      "memory usage: 41.8+ KB\n",
      "Число записей в датасете:  205\n"
     ]
    }
   ],
   "source": [
    "my_data.info()\n",
    "my_data = my_data.select_dtypes(include=['int64'])\n",
    "print(\"Число записей в датасете: \",len(my_data))"
   ]
  },
  {
   "cell_type": "code",
   "execution_count": 17,
   "metadata": {},
   "outputs": [
    {
     "name": "stdout",
     "output_type": "stream",
     "text": [
      "V0  =  1.5507890961262554\n",
      "V13  =  271107.8743185079\n",
      "V16  =  1734.1139167862266\n",
      "V23  =  42.79961740793879\n",
      "V24  =  47.42309899569584\n"
     ]
    },
    {
     "data": {
      "image/png": "[encoded data removed]",
      "text/plain": [
       "<Figure size 432x288 with 1 Axes>"
      ]
     },
     "metadata": {
      "needs_background": "light"
     },
     "output_type": "display_data"
    }
   ],
   "source": [
    "for i in my_data:\n",
    "    print (i,' = ', my_data.var()[i])\n",
    "Data = preprocessing.normalize(my_data['V24'].values.reshape(1, -1))\n",
    "plt.plot(Data, scipy.stats.norm.cdf(Data), 'D', c='y')\n",
    "plt.savefig('v04.png')\n",
    "plt.show()"
   ]
  },
  {
   "cell_type": "code",
   "execution_count": 27,
   "metadata": {},
   "outputs": [
    {
     "name": "stdout",
     "output_type": "stream",
     "text": [
      "Collecting seaborn\n",
      "  Downloading seaborn-0.11.0-py3-none-any.whl (283 kB)\n",
      "\u001b[K     |████████████████████████████████| 283 kB 3.3 MB/s eta 0:00:01\n",
      "\u001b[?25hRequirement already satisfied: pandas>=0.23 in /srv/conda/envs/notebook/lib/python3.6/site-packages (from seaborn) (1.1.2)\n",
      "Requirement already satisfied: scipy>=1.0 in /srv/conda/envs/notebook/lib/python3.6/site-packages (from seaborn) (1.5.2)\n",
      "Requirement already satisfied: numpy>=1.15 in /srv/conda/envs/notebook/lib/python3.6/site-packages (from seaborn) (1.19.1)\n",
      "Requirement already satisfied: matplotlib>=2.2 in /srv/conda/envs/notebook/lib/python3.6/site-packages (from seaborn) (3.3.1)\n",
      "Requirement already satisfied: pytz>=2017.2 in /srv/conda/envs/notebook/lib/python3.6/site-packages (from pandas>=0.23->seaborn) (2020.1)\n",
      "Requirement already satisfied: python-dateutil>=2.7.3 in /srv/conda/envs/notebook/lib/python3.6/site-packages (from pandas>=0.23->seaborn) (2.8.1)\n",
      "Requirement already satisfied: certifi>=2020.06.20 in /srv/conda/envs/notebook/lib/python3.6/site-packages (from matplotlib>=2.2->seaborn) (2020.6.20)\n",
      "Requirement already satisfied: kiwisolver>=1.0.1 in /srv/conda/envs/notebook/lib/python3.6/site-packages (from matplotlib>=2.2->seaborn) (1.2.0)\n",
      "Requirement already satisfied: cycler>=0.10 in /srv/conda/envs/notebook/lib/python3.6/site-packages (from matplotlib>=2.2->seaborn) (0.10.0)\n",
      "Requirement already satisfied: pyparsing!=2.0.4,!=2.1.2,!=2.1.6,>=2.0.3 in /srv/conda/envs/notebook/lib/python3.6/site-packages (from matplotlib>=2.2->seaborn) (2.4.7)\n",
      "Requirement already satisfied: pillow>=6.2.0 in /srv/conda/envs/notebook/lib/python3.6/site-packages (from matplotlib>=2.2->seaborn) (7.2.0)\n",
      "Requirement already satisfied: six>=1.5 in /srv/conda/envs/notebook/lib/python3.6/site-packages (from python-dateutil>=2.7.3->pandas>=0.23->seaborn) (1.15.0)\n",
      "Installing collected packages: seaborn\n",
      "Successfully installed seaborn-0.11.0\n",
      "Note: you may need to restart the kernel to use updated packages.\n"
     ]
    }
   ],
   "source": [
    "pip install seaborn"
   ]
  },
  {
   "cell_type": "code",
   "execution_count": 28,
   "metadata": {},
   "outputs": [
    {
     "data": {
      "text/plain": [
       "Text(33.0, 0.5, 'PDF')"
      ]
     },
     "execution_count": 28,
     "metadata": {},
     "output_type": "execute_result"
    },
    {
     "data": {
      "image/png": "[encoded data removed]",
      "text/plain": [
       "<Figure size 432x288 with 2 Axes>"
      ]
     },
     "metadata": {
      "needs_background": "light"
     },
     "output_type": "display_data"
    }
   ],
   "source": [
    "import seaborn as sns\n",
    "\n",
    "sns.heatmap(abs(my_data.corr()), annot = True)\n",
    "plt.hist(my_data['V13'], color = 'blue', edgecolor = 'black',bins = 20, density=True)\n",
    "\n",
    "plt.title('Эмпирическая PDF признака sepal width')\n",
    "plt.xlabel('Sepal width')\n",
    "plt.ylabel('PDF')"
   ]
  },
  {
   "cell_type": "markdown",
   "metadata": {},
   "source": [
    "Вычислите и выведите на экран для указанных выше двух признаков математические ожидания, дисперсии, а также корреляцию между признаками."
   ]
  },
  {
   "cell_type": "code",
   "execution_count": 29,
   "metadata": {},
   "outputs": [
    {
     "name": "stdout",
     "output_type": "stream",
     "text": [
      "Мат ожидание X=  30.75121951219512\n",
      "Мат ожидание Y=  2555.5658536585365\n",
      "Дисперсия X=  47.19176680547293\n",
      "Дисперсия Y=  269785.39688280784\n",
      "Корреляция =  -0.7974647922811803\n"
     ]
    }
   ],
   "source": [
    "print (\"Мат ожидание X= \", np.mean(my_data['V24']))\n",
    "print (\"Мат ожидание Y= \", np.mean(my_data['V13']))\n",
    "print (\"Дисперсия X= \",np.var(my_data['V24']))\n",
    "print (\"Дисперсия Y= \",np.var(my_data['V13']))\n",
    "print(\"Корреляция = \", np.corrcoef(my_data['V24'], my_data['V13'])[0,1])"
   ]
  }
 ],
 "metadata": {
  "kernelspec": {
   "display_name": "Python 3",
   "language": "python",
   "name": "python3"
  },
  "language_info": {
   "codemirror_mode": {
    "name": "ipython",
    "version": 3
   },
   "file_extension": ".py",
   "mimetype": "text/x-python",
   "name": "python",
   "nbconvert_exporter": "python",
   "pygments_lexer": "ipython3",
   "version": "3.8.6"
  }
 },
 "nbformat": 4,
 "nbformat_minor": 2
}
